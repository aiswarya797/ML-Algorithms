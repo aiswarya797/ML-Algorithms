{
  "nbformat": 4,
  "nbformat_minor": 0,
  "metadata": {
    "colab": {
      "name": "SpeechMNIST-ANN.ipynb",
      "provenance": [],
      "collapsed_sections": []
    },
    "kernelspec": {
      "name": "python3",
      "display_name": "Python 3"
    }
  },
  "cells": [
    {
      "cell_type": "code",
      "metadata": {
        "id": "Jf6nHXBCNqhj",
        "colab_type": "code",
        "colab": {}
      },
      "source": [
        "!pip install -U -q PyDrive\n",
        "import os\n",
        "from pydrive.auth import GoogleAuth\n",
        "from pydrive.drive import GoogleDrive\n",
        "from google.colab import auth\n",
        "from oauth2client.client import GoogleCredentials\n",
        "import math\n",
        "from google.colab.patches import cv2_imshow\n",
        "# 1. Authenticate and create the PyDrive client.\n",
        "auth.authenticate_user()\n",
        "gauth = GoogleAuth()\n",
        "gauth.credentials = GoogleCredentials.get_application_default()\n",
        "drive = GoogleDrive(gauth)\n",
        "\n",
        "# 2. Mount Drive\n",
        "## Images as well as annotations are present \n",
        "\n",
        "from google.colab import drive\n",
        "drive.mount('/content/drive')"
      ],
      "execution_count": null,
      "outputs": []
    },
    {
      "cell_type": "code",
      "metadata": {
        "id": "sRkG6lL2O9W2",
        "colab_type": "code",
        "colab": {
          "base_uri": "https://localhost:8080/",
          "height": 34
        },
        "outputId": "b656d016-370e-451e-8bb6-ea24d6d2a463"
      },
      "source": [
        "import numpy as np\n",
        "import librosa\n",
        "import os\n",
        "from keras.utils import to_categorical\n",
        "\n",
        "def wav2mfcc(file_path, max_pad_len=20):\n",
        "    wave, sr = librosa.load(file_path, mono=True, sr=None)\n",
        "    wave = wave[::3]\n",
        "    mfcc = librosa.feature.mfcc(wave, sr=8000)\n",
        "    pad_width = max_pad_len - mfcc.shape[1]\n",
        "    mfcc = np.pad(mfcc, pad_width=((0, 0), (0, pad_width)), mode='constant')\n",
        "    return mfcc\n",
        "\n",
        "def get_data():\n",
        "\n",
        "    labels = []\n",
        "    mfccs = []\n",
        "    filename = 'drive/My Drive/Speech/free-spoken-digit-dataset/train/'\n",
        "\n",
        "    for f in os.listdir(filename):\n",
        "        if f.endswith('.wav'):\n",
        "            # MFCC\n",
        "            mfccs.append(wav2mfcc(filename + f))\n",
        "\n",
        "            # List of labels\n",
        "            label = f.split('_')[0]\n",
        "            labels.append(label)\n",
        "\n",
        "    return np.asarray(mfccs), labels"
      ],
      "execution_count": 3,
      "outputs": [
        {
          "output_type": "stream",
          "text": [
            "Using TensorFlow backend.\n"
          ],
          "name": "stderr"
        }
      ]
    },
    {
      "cell_type": "code",
      "metadata": {
        "id": "_3z9s_HIbiw_",
        "colab_type": "code",
        "colab": {
          "base_uri": "https://localhost:8080/",
          "height": 121
        },
        "outputId": "2214acb3-89cf-41a6-af62-148d1696da66"
      },
      "source": [
        "## Test Data\n",
        "data, labels = get_data()\n",
        "print('Data length', len(data))\n",
        "print('Labels Length', len(labels))\n",
        "print('Data shape', data.shape)\n",
        "print('Data[0] shape', data[0].shape)\n",
        "print('Data[1] shape', data[1].shape)\n",
        "d = data[0].flatten()\n",
        "print(len(d))"
      ],
      "execution_count": 4,
      "outputs": [
        {
          "output_type": "stream",
          "text": [
            "Data length 100\n",
            "Labels Length 100\n",
            "Data shape (100, 20, 20)\n",
            "Data[0] shape (20, 20)\n",
            "Data[1] shape (20, 20)\n",
            "400\n"
          ],
          "name": "stdout"
        }
      ]
    },
    {
      "cell_type": "code",
      "metadata": {
        "id": "mSGTFd13xXmy",
        "colab_type": "code",
        "colab": {
          "base_uri": "https://localhost:8080/",
          "height": 69
        },
        "outputId": "92006688-ada8-40b4-bb62-916a905dd272"
      },
      "source": [
        "import random\n",
        "def load_data(data, labels):\n",
        "  dictionary = {}\n",
        "  for i in range(len(data)):\n",
        "    d = data[i]\n",
        "    l = labels[i]\n",
        "    f = d.flatten()\n",
        "    dictionary[i] = [f,l]\n",
        "\n",
        "  keys =  list(dictionary.keys())\n",
        "  print(len(keys))\n",
        "  random.shuffle(keys)\n",
        "  d = dict([(key, dictionary[key]) for key in keys])\n",
        "  # print(d[1])\n",
        "  Q = np.array(list(d.values()))\n",
        "  print(Q.shape)\n",
        "  lab = Q[:, 1]\n",
        "  lab = to_categorical(lab)\n",
        "  data_flatten = []\n",
        "  for ele in np.array(Q[:,0]):\n",
        "    ele= ele.ravel()\n",
        "    data_flatten.append(ele)\n",
        "  data_flatten = np.array(data_flatten)\n",
        "  print(data_flatten.shape)\n",
        "  X_train = np.array(data_flatten[:90])\n",
        "  Y_train = lab[:90]\n",
        "\n",
        "  X_test = np.array(data_flatten[90:])\n",
        "  Y_test = lab[90:]\n",
        "\n",
        "  return X_train, Y_train, X_test, Y_test\n",
        "\n",
        "X_train, Y_train, X_test, Y_test = load_data(data, labels)"
      ],
      "execution_count": 5,
      "outputs": [
        {
          "output_type": "stream",
          "text": [
            "100\n",
            "(100, 2)\n",
            "(100, 400)\n"
          ],
          "name": "stdout"
        }
      ]
    },
    {
      "cell_type": "code",
      "metadata": {
        "id": "C1X8pOuo3m25",
        "colab_type": "code",
        "colab": {
          "base_uri": "https://localhost:8080/",
          "height": 34
        },
        "outputId": "4f19d51c-2116-4fcc-d633-5e61d5e537b1"
      },
      "source": [
        "print(X_train.shape)\n"
      ],
      "execution_count": 6,
      "outputs": [
        {
          "output_type": "stream",
          "text": [
            "(90, 400)\n"
          ],
          "name": "stdout"
        }
      ]
    },
    {
      "cell_type": "code",
      "metadata": {
        "id": "wk-z58DJPdIK",
        "colab_type": "code",
        "colab": {}
      },
      "source": [
        "import keras\n",
        "from keras.models import Sequential\n",
        "from keras.layers import Dense, Dropout, BatchNormalization\n",
        "\n",
        "#from ann_visualizer.visualize import ann_viz\n",
        "\n",
        "def get_ann_model(input_shape, num_classes):\n",
        "    model = Sequential()\n",
        "\n",
        "    model.add(Dense(256, activation='relu', input_shape=input_shape))\n",
        "    model.add(BatchNormalization())\n",
        "    # model.add(Dense(128, activation='relu'))\n",
        "    # model.add(BatchNormalization())\n",
        "\n",
        "    # model.add(Dense(128,  activation='relu'))\n",
        "    # model.add(BatchNormalization())\n",
        "\n",
        "    model.add(Dropout(0.25))\n",
        "\n",
        "    model.add(Dense(128, activation='relu', kernel_regularizer='l2'))\n",
        "    model.add(BatchNormalization())\n",
        "    model.add(Dropout(0.25))\n",
        "    model.add(Dense(64, activation='relu', kernel_regularizer='l2'))\n",
        "    model.add(BatchNormalization())\n",
        "    model.add(Dropout(0.4))\n",
        "    model.add(Dense(num_classes, activation='softmax'))\n",
        "    model.compile(loss=keras.losses.categorical_crossentropy, optimizer=keras.optimizers.Adadelta(), metrics=['accuracy'])\n",
        "\n",
        "    return model"
      ],
      "execution_count": 16,
      "outputs": []
    },
    {
      "cell_type": "code",
      "metadata": {
        "id": "0kkjcFqZP6HW",
        "colab_type": "code",
        "colab": {
          "base_uri": "https://localhost:8080/",
          "height": 816
        },
        "outputId": "4b7311e3-c3e4-4774-9d93-8faa8d7149fe"
      },
      "source": [
        "import matplotlib.pyplot as plt\n",
        "## Train model\n",
        "model = get_ann_model((400,), 2)\n",
        "print(model.summary())\n",
        "history = model.fit(np.array(X_train), Y_train, batch_size=10, epochs=30, verbose=0, validation_split=0.1)\n",
        "print(history.history['accuracy'][-1])\n",
        "plt.plot(history.history['accuracy'])\n",
        "#plt.plot(self.history.history['val_acc'])\n",
        "plt.title('model accuracy')\n",
        "plt.ylabel('accuracy')\n",
        "plt.xlabel('epoch')\n",
        "plt.legend(['training', 'validation'], loc='best')\n",
        "plt.show()"
      ],
      "execution_count": 18,
      "outputs": [
        {
          "output_type": "stream",
          "text": [
            "Model: \"sequential_3\"\n",
            "_________________________________________________________________\n",
            "Layer (type)                 Output Shape              Param #   \n",
            "=================================================================\n",
            "dense_11 (Dense)             (None, 256)               102656    \n",
            "_________________________________________________________________\n",
            "batch_normalization_9 (Batch (None, 256)               1024      \n",
            "_________________________________________________________________\n",
            "dropout_7 (Dropout)          (None, 256)               0         \n",
            "_________________________________________________________________\n",
            "dense_12 (Dense)             (None, 128)               32896     \n",
            "_________________________________________________________________\n",
            "batch_normalization_10 (Batc (None, 128)               512       \n",
            "_________________________________________________________________\n",
            "dropout_8 (Dropout)          (None, 128)               0         \n",
            "_________________________________________________________________\n",
            "dense_13 (Dense)             (None, 64)                8256      \n",
            "_________________________________________________________________\n",
            "batch_normalization_11 (Batc (None, 64)                256       \n",
            "_________________________________________________________________\n",
            "dropout_9 (Dropout)          (None, 64)                0         \n",
            "_________________________________________________________________\n",
            "dense_14 (Dense)             (None, 2)                 130       \n",
            "=================================================================\n",
            "Total params: 145,730\n",
            "Trainable params: 144,834\n",
            "Non-trainable params: 896\n",
            "_________________________________________________________________\n",
            "None\n",
            "0.9876543\n"
          ],
          "name": "stdout"
        },
        {
          "output_type": "display_data",
          "data": {
            "image/png": "[encoded data removed]",
            "text/plain": [
              "<Figure size 432x288 with 1 Axes>"
            ]
          },
          "metadata": {
            "tags": [],
            "needs_background": "light"
          }
        }
      ]
    },
    {
      "cell_type": "code",
      "metadata": {
        "id": "waROg4fIQHW_",
        "colab_type": "code",
        "colab": {}
      },
      "source": [
        "# print(X_test)\n",
        "y_test = model.predict_classes(X_test)"
      ],
      "execution_count": 19,
      "outputs": []
    },
    {
      "cell_type": "code",
      "metadata": {
        "id": "q05oWWNS9F46",
        "colab_type": "code",
        "colab": {
          "base_uri": "https://localhost:8080/",
          "height": 52
        },
        "outputId": "3d15ab12-6e4f-46ce-f41a-dff812306819"
      },
      "source": [
        "count =0 \n",
        "print(y_test[0])\n",
        "# Y_test_ = to_categorical(Y_test)\n",
        "for i in range(len(Y_test)):\n",
        "  if Y_test[0][0]==1:\n",
        "    y=0\n",
        "  else:\n",
        "    y=1\n",
        "  if(y == y_test[i]):\n",
        "    count+=1\n",
        "\n",
        "print(count/len(y_test))"
      ],
      "execution_count": 20,
      "outputs": [
        {
          "output_type": "stream",
          "text": [
            "0\n",
            "0.7\n"
          ],
          "name": "stdout"
        }
      ]
    },
    {
      "cell_type": "code",
      "metadata": {
        "id": "EjiYmriUSkvR",
        "colab_type": "code",
        "colab": {}
      },
      "source": [
        ""
      ],
      "execution_count": null,
      "outputs": []
    }
  ]
}